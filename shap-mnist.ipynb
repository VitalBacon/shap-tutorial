{
 "cells": [
  {
   "cell_type": "code",
   "execution_count": null,
   "metadata": {},
   "outputs": [],
   "source": [
    "import numpy as np\n",
    "import shap\n",
    "import tensorflow as tf\n",
    "import matplotlib.pyplot as plt\n",
    "from tensorflow.keras import layers\n",
    "from tensorflow import keras\n",
    "from scipy.ndimage import gaussian_filter\n",
    "from sklearn.decomposition import PCA\n",
    "from sklearn.metrics import confusion_matrix"
   ]
  },
  {
   "cell_type": "markdown",
   "metadata": {},
   "source": [
    "## Ładowanie datasetu"
   ]
  },
  {
   "cell_type": "code",
   "execution_count": null,
   "metadata": {},
   "outputs": [],
   "source": [
    "data = tf.keras.datasets.mnist.load_data()"
   ]
  },
  {
   "cell_type": "code",
   "execution_count": null,
   "metadata": {},
   "outputs": [],
   "source": [
    "train_data, test_data = data\n",
    "X_train, y_train = train_data\n",
    "X_test, y_test = test_data\n",
    "\n",
    "X_train = X_train.reshape(-1, 28, 28, 1).astype(np.float32)\n",
    "X_test = X_test.reshape(-1, 28, 28, 1).astype(np.float32)\n",
    "\n",
    "X_train.shape, X_test.shape, y_train.shape, y_test.shape"
   ]
  },
  {
   "cell_type": "markdown",
   "metadata": {},
   "source": [
    "## Konfiguracja modelu sieci"
   ]
  },
  {
   "cell_type": "code",
   "execution_count": null,
   "metadata": {},
   "outputs": [],
   "source": [
    "input_shape = X_train[0].shape\n",
    "num_classes = 10\n",
    "\n",
    "model = keras.Sequential(\n",
    "    [\n",
    "        keras.Input(shape=input_shape),\n",
    "        layers.Conv2D(32, kernel_size=(3, 3), activation=\"relu\"),\n",
    "        layers.MaxPooling2D(pool_size=(2, 2)),\n",
    "        layers.Conv2D(64, kernel_size=(3, 3), activation=\"relu\"),\n",
    "        layers.MaxPooling2D(pool_size=(2, 2)),\n",
    "        layers.Flatten(),\n",
    "        layers.Dropout(0.5),\n",
    "        layers.Dense(num_classes, activation=\"softmax\"),\n",
    "    ]\n",
    ")\n",
    "\n",
    "model.compile(optimizer='adam', loss='sparse_categorical_crossentropy', metrics=['accuracy'])\n",
    "model.summary()"
   ]
  },
  {
   "cell_type": "markdown",
   "metadata": {},
   "source": [
    "## Trening modelu\n",
    "\n",
    "Jeśli korzystacie z własnej architektury sieci przeprowadźcie trening od nowa"
   ]
  },
  {
   "cell_type": "code",
   "execution_count": null,
   "metadata": {},
   "outputs": [],
   "source": [
    "history = model.fit(\n",
    "    X_train,\n",
    "    y_train,\n",
    "    epochs=20,\n",
    "    batch_size=256,\n",
    "    validation_data=(X_test, y_test)\n",
    ")"
   ]
  },
  {
   "cell_type": "code",
   "execution_count": null,
   "metadata": {},
   "outputs": [],
   "source": [
    "x = np.arange(20)\n",
    "plt.plot(x, history.history['loss'], color='red', label='train loss')\n",
    "plt.plot(x, history.history['val_loss'], color='blue', label='validation loss')\n",
    "plt.legend()\n",
    "plt.show()\n",
    "\n",
    "plt.plot(x, history.history['accuracy'], color='red', label='train accuracy')\n",
    "plt.plot(x, history.history['val_accuracy'], color='blue', label='validation accuracy')\n",
    "plt.legend()\n",
    "plt.show()"
   ]
  },
  {
   "cell_type": "markdown",
   "metadata": {},
   "source": [
    "## Ładowanie gotowych wag modelu\n",
    "\n",
    "Dla leniwych - gotowe wagi"
   ]
  },
  {
   "cell_type": "code",
   "execution_count": null,
   "metadata": {},
   "outputs": [],
   "source": [
    "model.load_weights('mnist_weights.h5')"
   ]
  },
  {
   "cell_type": "markdown",
   "metadata": {},
   "source": [
    "Szybki test czy wszystko działa"
   ]
  },
  {
   "cell_type": "code",
   "execution_count": null,
   "metadata": {},
   "outputs": [],
   "source": [
    "test_preds = model.predict(X_test)\n",
    "test_preds_classes = np.argmax(test_preds, axis=-1)\n",
    "test_accuracy = np.mean(test_preds_classes == y_test)\n",
    "\n",
    "print('test accuracy:', round(test_accuracy, 2))"
   ]
  },
  {
   "cell_type": "markdown",
   "metadata": {},
   "source": [
    "# Zadanie 1\n",
    "\n",
    "Przeprowadź explaining za pomocą DeepExplainera dla przykładowych próbek. Uzupełnij fragmenty kodu zastąpione ???"
   ]
  },
  {
   "cell_type": "code",
   "execution_count": null,
   "metadata": {},
   "outputs": [],
   "source": [
    "# Konstrukcja deep explainera\n",
    "background = ??? # wybieramy 100 losowych próbek ze zbioru treningowego, z których będą samplowane wartości neutralne\n",
    "explainer = shap.DeepExplainer(model, background)"
   ]
  },
  {
   "cell_type": "code",
   "execution_count": null,
   "metadata": {},
   "outputs": [],
   "source": [
    "# Wybór losowych próbek ze zbioru testowego\n",
    "SAMPLES_COUNT = 5\n",
    "samples_batch = ???"
   ]
  },
  {
   "cell_type": "code",
   "execution_count": null,
   "metadata": {},
   "outputs": [],
   "source": [
    "%%time\n",
    "# Obliczenie shap values dla batcha wybranych próbek\n",
    "samples_batch_shap = explainer.shap_values(???)"
   ]
  },
  {
   "cell_type": "code",
   "execution_count": null,
   "metadata": {},
   "outputs": [],
   "source": [
    "labels = np.array([list(range(10))] * SAMPLES_COUNT)\n",
    "shap.image_plot(samples_batch_shap, samples_batch / 255., labels=labels)"
   ]
  },
  {
   "cell_type": "markdown",
   "metadata": {},
   "source": [
    "# Zadanie 2\n",
    "\n",
    "Wyznacz przynajmniej dwie podobne klasy, które często są ze sobą mylone (wykorzystaj PCA, t-SNE, confusion matrix, lub inną metodę). Następnie znajdź kilka przykładowych próbek należących do z każdej ze znalezionych klas, dla których przy pomocy DeepShap możemy wyraźnie wyznaczyć obszary obrazów pozwalające jednoznacznie wskazać różnice pomiędzy cechami wybranych klas. W badaniu rezultatów może pomóc zaaplikowanie na shap values rozmycia gaussowskiego (warto przetestować wyniki dla różnych wartości parametru sigma)."
   ]
  },
  {
   "cell_type": "code",
   "execution_count": null,
   "metadata": {},
   "outputs": [],
   "source": [
    "# Wyznaczenie podobnych klas\n",
    "\n",
    "???"
   ]
  },
  {
   "cell_type": "code",
   "execution_count": null,
   "metadata": {},
   "outputs": [],
   "source": [
    "similar_classes_indices = [???, ???]"
   ]
  },
  {
   "cell_type": "code",
   "execution_count": null,
   "metadata": {},
   "outputs": [],
   "source": [
    "# Funkcje pomocnicze\n",
    "def prep_img(img):\n",
    "    return np.array([img / 255])\n",
    "\n",
    "\n",
    "def compare_shap(shap_values, explained_classes, imgs):\n",
    "    '''\n",
    "    Rysuje wykres shap values wyjaśniających zadane klasy\n",
    "    \n",
    "    Parameters\n",
    "    ----------\n",
    "    shap_values : List[ndarray]\n",
    "        Lista, której i-ty element to wyjaśnienia klasy i-tej dla kolejnych próbek \n",
    "        (wynik wywołania funkcji explainer.shap_values).\n",
    "    explained_classes : List[int]\n",
    "        Lista indeksów klas, które chcemy uwzględnić na wykresie wynikowym.\n",
    "    imgs : List[ndarray]\n",
    "        Lista obrazów reprezentujących wyjaśniane próbki.\n",
    "    '''\n",
    "    np_shap = np.array(shap_values)\n",
    "    class_labels = explained_classes\n",
    "    classes_shap = np_shap[explained_classes]\n",
    "    for i, img in enumerate(imgs):\n",
    "        img_shap = list(classes_shap[:, i:i+1])\n",
    "        shap.image_plot(img_shap, prep_img(img), np.array([class_labels]))\n",
    "        \n",
    "        \n",
    "def blur_shap_values(shap_values, sigma):\n",
    "    '''\n",
    "    Aplikuje rozmycie gaussowskie dla uzyskanych shap values\n",
    "    \n",
    "    Parameters\n",
    "    ----------\n",
    "    shap_values : List[ndarray]\n",
    "        Lista, której i-ty element to wyjaśnienia klasy i-tej dla kolejnych próbek \n",
    "        (wynik wywołania funkcji explainer.shap_values).\n",
    "    sigma : float\n",
    "        Określa intensywność rozmycia.\n",
    "    '''\n",
    "    classes_count = len(shap_values)\n",
    "    samples_count = shap_values[0].shape[0]\n",
    "    blurred_shap_values = []\n",
    "    for class_idx in range(classes_count):\n",
    "        blurred = []\n",
    "        for sample_idx in range(samples_count):\n",
    "            blurred.append(gaussian_filter(shap_values[class_idx][sample_idx], sigma=sigma))\n",
    "        blurred_shap_values.append(blurred)\n",
    "    return blurred_shap_values"
   ]
  },
  {
   "cell_type": "code",
   "execution_count": null,
   "metadata": {
    "scrolled": true
   },
   "outputs": [],
   "source": [
    "SAMPLES_PER_CLASS = 5\n",
    "\n",
    "# Dla każdej ze znalezionych klas wybranie i wyjaśnienie SAMPLES_PER_CLASS losowych próbek\n",
    "for class_idx in similar_classes_indices:\n",
    "    class_samples = X_test[y_test == class_idx]\n",
    "    selected_class_samples = class_samples[???] # wybierz SAMPLES_PER_CLASS losowych próbek\n",
    "    \n",
    "    selected_samples_shap = explainer.shap_values(selected_class_samples)\n",
    "    blurred_selected_samples_shap = blur_shap_values(selected_samples_shap, sigma=???) # dobierz parametr rozmycia\n",
    "    compare_shap(blurred_selected_samples_shap, similar_classes_indices, selected_class_samples)"
   ]
  },
  {
   "cell_type": "markdown",
   "metadata": {},
   "source": [
    "# Zadanie 3\n",
    "\n",
    "Przetestuj działanie DeepExplainera dla próbek wyznaczonych zgodnie z następującymi zasadami (po kilka próbek):\n",
    "1. Próbki dowolnych klas, które zostały poprawnie sklasyfikowane przez model z najwiekszą pewnością.\n",
    "1. Próbki dowolnych klas, które zostały niepoprawnie sklasyfikowane przez model z najwiekszą pewnością przynależności do błędnej klasy.\n",
    "1. Próbki dowolnych klas, dla których model waha się pomiędzy dwoma klasami (np. takie próbki, dla których confidence modelu wynosi przynajmniej 40% dla dwóch klas).\n",
    "\n",
    "Zinterpretuj otrzymane wyniki, czy takie próbki dobrze nadają się do analizy za pomocą shapa? Czy można stwierdzić dlaczego zostały dobrze/źle zaklasyfikowane?"
   ]
  },
  {
   "cell_type": "markdown",
   "metadata": {},
   "source": [
    "#### 1. Próbki dowolnych klas, które zostały poprawnie sklasyfikowane przez model z najwiekszą pewnością."
   ]
  },
  {
   "cell_type": "code",
   "execution_count": null,
   "metadata": {},
   "outputs": [],
   "source": [
    "???"
   ]
  },
  {
   "cell_type": "markdown",
   "metadata": {},
   "source": [
    "#### 2. Próbki dowolnych klas, które zostały niepoprawnie sklasyfikowane przez model z najwiekszą pewnością przynależności do błędnej klasy."
   ]
  },
  {
   "cell_type": "code",
   "execution_count": null,
   "metadata": {},
   "outputs": [],
   "source": [
    "???"
   ]
  },
  {
   "cell_type": "markdown",
   "metadata": {},
   "source": [
    "#### 3. Próbki dowolnych klas, dla których model waha się pomiędzy dwoma klasami (np. takie próbki, dla których confidence modelu wynosi przynajmniej 40% dla dwóch klas)."
   ]
  },
  {
   "cell_type": "code",
   "execution_count": null,
   "metadata": {},
   "outputs": [],
   "source": [
    "???"
   ]
  },
  {
   "cell_type": "markdown",
   "metadata": {},
   "source": [
    "# Zadanie 4 [Dla chętnych]\n",
    "\n",
    "1. Przetestuj działanie DeepExplainera dla zastosowania różnych backgroundów (cały czarny obraz, średnia całego zbioru danych, mediana itp.). \n",
    "2. Sprawdź, czy użycie KernelExplainera dla przykładowych obrazów pozwala uzyskać sensowne wyniki (będzie to wymagało spłaszczenia danych)."
   ]
  },
  {
   "cell_type": "code",
   "execution_count": null,
   "metadata": {},
   "outputs": [],
   "source": [
    "???"
   ]
  }
 ],
 "metadata": {
  "kernelspec": {
   "display_name": "Python 3",
   "language": "python",
   "name": "python3"
  },
  "language_info": {
   "codemirror_mode": {
    "name": "ipython",
    "version": 3
   },
   "file_extension": ".py",
   "mimetype": "text/x-python",
   "name": "python",
   "nbconvert_exporter": "python",
   "pygments_lexer": "ipython3",
   "version": "3.7.9"
  }
 },
 "nbformat": 4,
 "nbformat_minor": 4
}
